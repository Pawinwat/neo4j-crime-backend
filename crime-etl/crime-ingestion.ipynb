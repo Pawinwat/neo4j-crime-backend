{
 "cells": [
  {
   "cell_type": "markdown",
   "metadata": {},
   "source": [
    "# Download Data"
   ]
  },
  {
   "cell_type": "markdown",
   "metadata": {},
   "source": [
    "## https://data.police.uk/data/"
   ]
  },
  {
   "cell_type": "code",
   "execution_count": 22,
   "metadata": {},
   "outputs": [],
   "source": [
    "from neo4j import GraphDatabase\n",
    "import os\n",
    "import pandas as pd"
   ]
  },
  {
   "cell_type": "code",
   "execution_count": 25,
   "metadata": {},
   "outputs": [],
   "source": [
    "uri = \"bolt://localhost:7687/neo4j\"  # Replace with your Neo4j server URI\n",
    "username = \"your_username\"\n",
    "password = \"your_password\"\n",
    "\n",
    "# Create a Neo4j driver instance\n",
    "driver = GraphDatabase.driver(uri, auth=(username, password))"
   ]
  },
  {
   "cell_type": "code",
   "execution_count": 26,
   "metadata": {},
   "outputs": [],
   "source": [
    "csv_directory = \"D:/dataset/police-uk-crime\"\n",
    "\n",
    "def create_indexes(tx):\n",
    "    tx.run(\"CREATE INDEX FOR (y:Year) ON (y.value)\")\n",
    "    tx.run(\"CREATE INDEX FOR (m:Month) ON (m.value)\")\n",
    "    tx.run(\"CREATE INDEX FOR (p:Place) ON (p.name)\")\n",
    "    tx.run(\"CREATE INDEX FOR (ctg:Category) ON (ctg.name)\")\n",
    "\n",
    "#for local to local\n",
    "def load_data_from_csv_cypher(tx, file_path):\n",
    "    tx.run(f\"\"\"\n",
    "        LOAD CSV WITH HEADERS FROM \"{file_path}\" AS csv\n",
    "        WITH csv AS crimecsv\n",
    "        WHERE crimecsv.`Location` IS NOT NULL\n",
    "        MERGE (p:Place {{name: crimecsv.`Location`}})\n",
    "        WITH crimecsv, split(crimecsv.`Month`, \"-\") AS yearMonth\n",
    "        WHERE yearMonth[0] IS NOT NULL\n",
    "        MERGE (y:Year {{value: toInteger(yearMonth[0])}})\n",
    "        WITH crimecsv, split(crimecsv.`Month`, \"-\") AS yearMonth\n",
    "        WHERE yearMonth[1] IS NOT NULL\n",
    "        MERGE (m:Month {{value: toInteger(yearMonth[1])}})\n",
    "        WITH crimecsv\n",
    "        WHERE crimecsv.`Crime type` IS NOT NULL\n",
    "        MERGE (ctg:Category {{name: crimecsv.`Crime type`}})\n",
    "        WITH crimecsv\n",
    "        WHERE crimecsv.`Latitude` IS NOT NULL\n",
    "        MERGE (c:Case {{\n",
    "            ref: CASE WHEN crimecsv.`Crime ID` IS NULL THEN '' ELSE crimecsv.`Crime ID` END,\n",
    "            lat: toFloat(crimecsv.`Latitude`),\n",
    "            lon: toFloat(crimecsv.`Longitude`),\n",
    "            outcome: CASE WHEN crimecsv.`Last outcome category` IS NULL THEN 'n/a' ELSE crimecsv.`Last outcome category` END\n",
    "        }})\n",
    "        WITH crimecsv, split(crimecsv.`Month`, \"-\") AS yearMonth\n",
    "        MATCH (xc:Case {{\n",
    "            ref: CASE WHEN crimecsv.`Crime ID` IS NULL THEN '' ELSE crimecsv.`Crime ID` END,\n",
    "            lat: toFloat(crimecsv.`Latitude`),\n",
    "            lon: toFloat(crimecsv.`Longitude`),\n",
    "            outcome: CASE WHEN crimecsv.`Last outcome category` IS NULL THEN 'n/a' ELSE crimecsv.`Last outcome category` END\n",
    "        }}),\n",
    "        (xy:Year {{value: toInteger(yearMonth[0])}}),\n",
    "        (xm:Month {{value: toInteger(yearMonth[1])}}),\n",
    "        (xp:Place {{name: crimecsv.`Location`}}),\n",
    "        (xctg:Category {{name: crimecsv.`Crime type`}})\n",
    "        CREATE (xm)-[:YEAR_OF]->(xy),\n",
    "        (xc)-[:HAPPEN_IN]->(xm),\n",
    "        (xc)-[:TYPE_OF]->(xctg),\n",
    "        (xc)-[:AT]->(xp)\n",
    "    \"\"\")\n",
    "\n",
    "#for local to docker without copy files\n",
    "def load_data_from_csv(tx, df):\n",
    "    for index, row in df.iterrows():\n",
    "        location = row['Location']\n",
    "        year, month = map(int, row['Month'].split('-'))\n",
    "        crime_type = row['Crime type']\n",
    "        latitude = float(row['Latitude'])\n",
    "        longitude = float(row['Longitude'])\n",
    "        crime_id = str(row['Crime ID']) if not pd.isnull(row['Crime ID']) else ''\n",
    "        outcome_category = str(row['Last outcome category']) if not pd.isnull(row['Last outcome category']) else 'n/a'\n",
    "\n",
    "        # Merge or create nodes based on your data model\n",
    "        tx.run(\"\"\"\n",
    "            MERGE (p:Place {name: $location})\n",
    "            MERGE (y:Year {value: $year})\n",
    "            MERGE (m:Month {value: $month})\n",
    "            MERGE (ctg:Category {name: $crime_type})\n",
    "            MERGE (c:Case {\n",
    "                ref: $crime_id,\n",
    "                lat: $latitude,\n",
    "                lon: $longitude,\n",
    "                outcome: $outcome_category\n",
    "            })\n",
    "            WITH c, y, m, p, ctg\n",
    "            CREATE (m)-[:YEAR_OF]->(y),\n",
    "                   (c)-[:HAPPEN_IN]->(m),\n",
    "                   (c)-[:TYPE_OF]->(ctg),\n",
    "                   (c)-[:AT]->(p)\n",
    "        \"\"\", location=location, year=year, month=month, crime_type=crime_type,\n",
    "             latitude=latitude, longitude=longitude, crime_id=crime_id, outcome_category=outcome_category)\n"
   ]
  },
  {
   "cell_type": "code",
   "execution_count": 28,
   "metadata": {},
   "outputs": [],
   "source": [
    "# with driver.session() as session:\n",
    "#     session.write_transaction(create_indexes)\n",
    "\n",
    "# Loop through files in the directory\n",
    "for root, dirs, files in os.walk(csv_directory):\n",
    "    for file in files:\n",
    "        # print(file)\n",
    "        if file.endswith(\".csv\"):\n",
    "            file_path = os.path.join(root, file)\n",
    "            print(file_path)\n",
    "            # Execute the load data query for each file\n",
    "            # with driver.session() as session:\n",
    "            #     session.write_transaction(load_data_from_csv_cypher, file_path)\n",
    "            df = pd.read_csv(file_path)\n",
    "            df['Latitude'].fillna(0, inplace=True)\n",
    "            df['Longitude'].fillna(0, inplace=True)\n",
    "            df.dropna(subset=['Latitude', 'Longitude'], inplace=True)\n",
    "            df['Latitude'] = pd.to_numeric(df['Latitude'], errors='coerce')\n",
    "            df['Longitude'] = pd.to_numeric(df['Longitude'], errors='coerce')\n",
    "            df['Location'] = df['Location'].str.strip()\n",
    "            df.drop_duplicates(inplace=True)\n",
    "\n",
    "\n",
    "            # Execute the load data query for each file\n",
    "            with driver.session() as session:\n",
    "                session.execute_write(load_data_from_csv, df)"
   ]
  },
  {
   "cell_type": "code",
   "execution_count": null,
   "metadata": {},
   "outputs": [],
   "source": []
  }
 ],
 "metadata": {
  "kernelspec": {
   "display_name": "Python 3",
   "language": "python",
   "name": "python3"
  },
  "language_info": {
   "codemirror_mode": {
    "name": "ipython",
    "version": 3
   },
   "file_extension": ".py",
   "mimetype": "text/x-python",
   "name": "python",
   "nbconvert_exporter": "python",
   "pygments_lexer": "ipython3",
   "version": "3.11.2"
  }
 },
 "nbformat": 4,
 "nbformat_minor": 2
}
