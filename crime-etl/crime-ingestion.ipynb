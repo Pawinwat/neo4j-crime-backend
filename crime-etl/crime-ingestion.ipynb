{
 "cells": [
  {
   "cell_type": "markdown",
   "metadata": {},
   "source": [
    "# Download Data"
   ]
  },
  {
   "cell_type": "markdown",
   "metadata": {},
   "source": [
    "## https://data.police.uk/data/"
   ]
  },
  {
   "cell_type": "code",
   "execution_count": 1,
   "metadata": {},
   "outputs": [],
   "source": [
    "from neo4j import GraphDatabase\n",
    "import os\n",
    "import pandas as pd"
   ]
  },
  {
   "cell_type": "code",
   "execution_count": 2,
   "metadata": {},
   "outputs": [],
   "source": [
    "uri = \"bolt://localhost:7687/neo4j\"  # Replace with your Neo4j server URI\n",
    "username = \"your_username\"\n",
    "password = \"your_password\"\n",
    "\n",
    "# Create a Neo4j driver instance\n",
    "driver = GraphDatabase.driver(uri, auth=(username, password))"
   ]
  },
  {
   "cell_type": "markdown",
   "metadata": {},
   "source": [
    "## Define ingest function"
   ]
  },
  {
   "cell_type": "code",
   "execution_count": 5,
   "metadata": {},
   "outputs": [],
   "source": [
    "csv_directory = \"D:/dataset/police-uk-crime\"\n",
    "\n",
    "def create_indexes(tx):\n",
    "    tx.run(\"CREATE INDEX FOR (y:Year) ON (y.value)\")\n",
    "    tx.run(\"CREATE INDEX FOR (m:Month) ON (m.value)\")\n",
    "    tx.run(\"CREATE INDEX FOR (p:Place) ON (p.name)\")\n",
    "    tx.run(\"CREATE INDEX FOR (ctg:Category) ON (ctg.name)\")\n",
    "\n",
    "#for local to local\n",
    "def load_data_from_csv_cypher(tx, file_path):\n",
    "    tx.run(f\"\"\"\n",
    "        LOAD CSV WITH HEADERS FROM \"{file_path}\" AS csv\n",
    "        WITH csv AS crimecsv\n",
    "        WHERE crimecsv.`Location` IS NOT NULL\n",
    "        MERGE (p:Place {{name: crimecsv.`Location`}})\n",
    "        WITH crimecsv, split(crimecsv.`Month`, \"-\") AS yearMonth\n",
    "        WHERE yearMonth[0] IS NOT NULL\n",
    "        MERGE (y:Year {{value: toInteger(yearMonth[0])}})\n",
    "        WITH crimecsv, split(crimecsv.`Month`, \"-\") AS yearMonth\n",
    "        WHERE yearMonth[1] IS NOT NULL\n",
    "        MERGE (m:Month {{value: toInteger(yearMonth[1])}})\n",
    "        WITH crimecsv\n",
    "        WHERE crimecsv.`Crime type` IS NOT NULL\n",
    "        MERGE (ctg:Category {{name: crimecsv.`Crime type`}})\n",
    "        WITH crimecsv\n",
    "        WHERE crimecsv.`Latitude` IS NOT NULL\n",
    "        MERGE (c:Case {{\n",
    "            ref: CASE WHEN crimecsv.`Crime ID` IS NULL THEN '' ELSE crimecsv.`Crime ID` END,\n",
    "            lat: toFloat(crimecsv.`Latitude`),\n",
    "            lon: toFloat(crimecsv.`Longitude`),\n",
    "            outcome: CASE WHEN crimecsv.`Last outcome category` IS NULL THEN 'n/a' ELSE crimecsv.`Last outcome category` END\n",
    "        }})\n",
    "        WITH crimecsv, split(crimecsv.`Month`, \"-\") AS yearMonth\n",
    "        MATCH (xc:Case {{\n",
    "            ref: CASE WHEN crimecsv.`Crime ID` IS NULL THEN '' ELSE crimecsv.`Crime ID` END,\n",
    "            lat: toFloat(crimecsv.`Latitude`),\n",
    "            lon: toFloat(crimecsv.`Longitude`),\n",
    "            outcome: CASE WHEN crimecsv.`Last outcome category` IS NULL THEN 'n/a' ELSE crimecsv.`Last outcome category` END\n",
    "        }}),\n",
    "        (xy:Year {{value: toInteger(yearMonth[0])}}),\n",
    "        (xm:Month {{value: toInteger(yearMonth[1])}}),\n",
    "        (xp:Place {{name: crimecsv.`Location`}}),\n",
    "        (xctg:Category {{name: crimecsv.`Crime type`}})\n",
    "        CREATE (xm)-[:YEAR_OF]->(xy),\n",
    "        (xc)-[:HAPPEN_IN]->(xm),\n",
    "        (xc)-[:TYPE_OF]->(xctg),\n",
    "        (xc)-[:AT]->(xp)\n",
    "    \"\"\")\n",
    "\n",
    "#for local to docker without copy files\n",
    "def load_data_from_csv(tx, df):\n",
    "    for index, row in df.iterrows():\n",
    "        location = row['Location']\n",
    "        year, month = map(int, row['Month'].split('-'))\n",
    "        crime_type = row['Crime type']\n",
    "        latitude = row['Latitude']\n",
    "        longitude = row['Longitude']\n",
    "        crime_id = str(row['Crime ID']) if not pd.isnull(row['Crime ID']) else ''\n",
    "        outcome_category = str(row['Last outcome category']) if not pd.isnull(row['Last outcome category']) else 'n/a'\n",
    "        force = row['Reported by']\n",
    "        # Merge or create nodes based on your data model\n",
    "        tx.run(\"\"\"\n",
    "            MERGE (p:Place {name: $location})\n",
    "            MERGE (f:Force {name: $force})\n",
    "\n",
    "            MERGE (m:Month {value: $month})\n",
    "            MERGE (ctg:Category {name: $crime_type})\n",
    "            MERGE (c:Case {\n",
    "                ref: $crime_id,\n",
    "                lat: $latitude,\n",
    "                lon: $longitude,\n",
    "                outcome: $outcome_category\n",
    "            })\n",
    "            WITH c,  m, p, ctg,f\n",
    "            CREATE \n",
    "                   (c)-[:REPORTED_BY]->(f),\n",
    "                   (c)-[:HAPPEN_IN]->(m),\n",
    "                   (c)-[:TYPE_OF]->(ctg),\n",
    "                   (c)-[:AT]->(p)\n",
    "        \"\"\", location=location, month=month, crime_type=crime_type,force=force,\n",
    "             latitude=latitude, longitude=longitude, crime_id=crime_id, outcome_category=outcome_category)\n",
    "        \n",
    "def create_time(tx,year,month):\n",
    "        tx.run(\"\"\"\n",
    "            MERGE (y:Year {value: $year})\n",
    "            MERGE (m:Month {value: $month})\n",
    "   \n",
    "            WITH y, m\n",
    "            CREATE (m)-[:YEAR_OF]->(y)\n",
    "        \"\"\", year=year, month=month)\n",
    "\n",
    "def create_police_force(tx,force):\n",
    "        tx.run(\"\"\"\n",
    "            MERGE (f:Force {name: $force})\n",
    "\n",
    "        \"\"\", force=force)\n"
   ]
  },
  {
   "cell_type": "markdown",
   "metadata": {},
   "source": [
    "## Data preparation"
   ]
  },
  {
   "cell_type": "code",
   "execution_count": 6,
   "metadata": {},
   "outputs": [],
   "source": [
    "# with driver.session() as session:\n",
    "#     session.write_transaction(create_indexes)\n",
    "df_list = []\n",
    "# Loop through files in the directory\n",
    "for root, dirs, files in os.walk(csv_directory):\n",
    "    for file in files:\n",
    "        # print(file)\n",
    "        if file.endswith(\".csv\"):\n",
    "            file_path = os.path.join(root, file)\n",
    "            # print(file_path)\n",
    "            # Execute the load data query for each file\n",
    "            # with driver.session() as session:\n",
    "            #     session.write_transaction(load_data_from_csv_cypher, file_path)\n",
    "            df = pd.read_csv(file_path)\n",
    "            df['Latitude'].fillna(0, inplace=True)\n",
    "            df['Longitude'].fillna(0, inplace=True)\n",
    "            df.dropna(subset=['Latitude', 'Longitude'], inplace=True)\n",
    "            df['Latitude'] = pd.to_numeric(df['Latitude'], errors='coerce')\n",
    "            df['Longitude'] = pd.to_numeric(df['Longitude'], errors='coerce')\n",
    "            df['Location'] = df['Location'].str.strip()\n",
    "            df.drop_duplicates(inplace=True)\n",
    "            df_list.append(df)\n",
    "\n",
    "            # Execute the load data query for each file\n",
    "            # with driver.session() as session:\n",
    "            #     session.execute_write(load_data_from_csv, df)"
   ]
  },
  {
   "cell_type": "markdown",
   "metadata": {},
   "source": [
    "## Create month and year"
   ]
  },
  {
   "cell_type": "code",
   "execution_count": 36,
   "metadata": {},
   "outputs": [
    {
     "name": "stdout",
     "output_type": "stream",
     "text": [
      "2022 06\n",
      "2022 07\n",
      "2022 08\n",
      "2022 09\n",
      "2022 10\n",
      "2022 11\n",
      "2022 12\n",
      "2023 01\n",
      "2023 02\n",
      "2023 03\n",
      "2023 04\n",
      "2023 05\n",
      "2023 06\n",
      "2023 07\n",
      "2023 08\n",
      "2023 09\n",
      "2023 10\n",
      "2023 11\n",
      "2023 12\n",
      "2024 01\n"
     ]
    }
   ],
   "source": [
    "for dir in os.listdir(csv_directory):\n",
    "    # print(dir)\n",
    "    [month,year] = dir.split('-')\n",
    "    print(month,year)\n",
    "    with driver.session() as session:\n",
    "        session.execute_write(create_time, year,month)"
   ]
  },
  {
   "cell_type": "code",
   "execution_count": 40,
   "metadata": {},
   "outputs": [],
   "source": [
    "full_df = pd.concat(df_list,axis=0)"
   ]
  },
  {
   "cell_type": "markdown",
   "metadata": {},
   "source": [
    "## Ingest police force"
   ]
  },
  {
   "cell_type": "code",
   "execution_count": 44,
   "metadata": {},
   "outputs": [
    {
     "data": {
      "text/html": [
       "<div>\n",
       "<style scoped>\n",
       "    .dataframe tbody tr th:only-of-type {\n",
       "        vertical-align: middle;\n",
       "    }\n",
       "\n",
       "    .dataframe tbody tr th {\n",
       "        vertical-align: top;\n",
       "    }\n",
       "\n",
       "    .dataframe thead th {\n",
       "        text-align: right;\n",
       "    }\n",
       "</style>\n",
       "<table border=\"1\" class=\"dataframe\">\n",
       "  <thead>\n",
       "    <tr style=\"text-align: right;\">\n",
       "      <th></th>\n",
       "      <th>Crime ID</th>\n",
       "      <th>Month</th>\n",
       "      <th>Reported by</th>\n",
       "      <th>Falls within</th>\n",
       "      <th>Longitude</th>\n",
       "      <th>Latitude</th>\n",
       "      <th>Location</th>\n",
       "      <th>LSOA code</th>\n",
       "      <th>LSOA name</th>\n",
       "      <th>Crime type</th>\n",
       "      <th>Last outcome category</th>\n",
       "      <th>Context</th>\n",
       "    </tr>\n",
       "  </thead>\n",
       "  <tbody>\n",
       "  </tbody>\n",
       "</table>\n",
       "</div>"
      ],
      "text/plain": [
       "Empty DataFrame\n",
       "Columns: [Crime ID, Month, Reported by, Falls within, Longitude, Latitude, Location, LSOA code, LSOA name, Crime type, Last outcome category, Context]\n",
       "Index: []"
      ]
     },
     "execution_count": 44,
     "metadata": {},
     "output_type": "execute_result"
    }
   ],
   "source": [
    "full_df[full_df['Reported by']!=full_df['Falls within']]#.unique()"
   ]
  },
  {
   "cell_type": "code",
   "execution_count": 46,
   "metadata": {},
   "outputs": [],
   "source": [
    "for force in  full_df['Reported by'].unique():\n",
    "    with driver.session() as session:\n",
    "        session.execute_write(create_police_force, force)"
   ]
  },
  {
   "cell_type": "markdown",
   "metadata": {},
   "source": [
    "## Ingest crimes and create relations"
   ]
  },
  {
   "cell_type": "code",
   "execution_count": 7,
   "metadata": {},
   "outputs": [],
   "source": [
    "for df in df_list:\n",
    "    with driver.session() as session:\n",
    "        session.execute_write(load_data_from_csv, df)"
   ]
  },
  {
   "cell_type": "code",
   "execution_count": null,
   "metadata": {},
   "outputs": [],
   "source": []
  }
 ],
 "metadata": {
  "kernelspec": {
   "display_name": "Python 3",
   "language": "python",
   "name": "python3"
  },
  "language_info": {
   "codemirror_mode": {
    "name": "ipython",
    "version": 3
   },
   "file_extension": ".py",
   "mimetype": "text/x-python",
   "name": "python",
   "nbconvert_exporter": "python",
   "pygments_lexer": "ipython3",
   "version": "3.11.2"
  }
 },
 "nbformat": 4,
 "nbformat_minor": 2
}
